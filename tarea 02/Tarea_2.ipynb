{
  "nbformat": 4,
  "nbformat_minor": 0,
  "metadata": {
    "colab": {
      "provenance": []
    },
    "kernelspec": {
      "name": "python3",
      "display_name": "Python 3"
    },
    "language_info": {
      "name": "python"
    }
  },
  "cells": [
    {
      "cell_type": "code",
      "execution_count": null,
      "metadata": {
        "id": "YYRw4Abh9irc"
      },
      "outputs": [],
      "source": []
    },
    {
      "cell_type": "markdown",
      "source": [
        "# Tarea de programación"
      ],
      "metadata": {
        "id": "pzdoxjprAVEw"
      }
    },
    {
      "cell_type": "code",
      "source": [
        "# Problema 1: Hacer un programa que imprima los números del 1 al 100.\n",
        "for numero in range(1,101):\n",
        "  print(numero)\n",
        "\n",
        "#iterar hasta consegir todos los números en un rango de 1 a 101\n",
        "# mostrar números"
      ],
      "metadata": {
        "colab": {
          "base_uri": "https://localhost:8080/"
        },
        "id": "6MSOSwQrCBob",
        "outputId": "73f629b2-2404-4486-f11b-0e1ec2fc96fa",
        "collapsed": true
      },
      "execution_count": null,
      "outputs": [
        {
          "output_type": "stream",
          "name": "stdout",
          "text": [
            "0\n",
            "1\n",
            "2\n",
            "3\n",
            "4\n",
            "5\n",
            "6\n",
            "7\n",
            "8\n",
            "9\n",
            "10\n",
            "11\n",
            "12\n",
            "13\n",
            "14\n",
            "15\n",
            "16\n",
            "17\n",
            "18\n",
            "19\n",
            "20\n",
            "21\n",
            "22\n",
            "23\n",
            "24\n",
            "25\n",
            "26\n",
            "27\n",
            "28\n",
            "29\n",
            "30\n",
            "31\n",
            "32\n",
            "33\n",
            "34\n",
            "35\n",
            "36\n",
            "37\n",
            "38\n",
            "39\n",
            "40\n",
            "41\n",
            "42\n",
            "43\n",
            "44\n",
            "45\n",
            "46\n",
            "47\n",
            "48\n",
            "49\n",
            "50\n",
            "51\n",
            "52\n",
            "53\n",
            "54\n",
            "55\n",
            "56\n",
            "57\n",
            "58\n",
            "59\n",
            "60\n",
            "61\n",
            "62\n",
            "63\n",
            "64\n",
            "65\n",
            "66\n",
            "67\n",
            "68\n",
            "69\n",
            "70\n",
            "71\n",
            "72\n",
            "73\n",
            "74\n",
            "75\n",
            "76\n",
            "77\n",
            "78\n",
            "79\n",
            "80\n",
            "81\n",
            "82\n",
            "83\n",
            "84\n",
            "85\n",
            "86\n",
            "87\n",
            "88\n",
            "89\n",
            "90\n",
            "91\n",
            "92\n",
            "93\n",
            "94\n",
            "95\n",
            "96\n",
            "97\n",
            "98\n",
            "99\n",
            "100\n"
          ]
        }
      ]
    },
    {
      "cell_type": "code",
      "source": [
        "# problema 2: Hacer un programa que imprima los números del 1 al 100 que sean divisibles entre 3 (con resto 0)\n",
        "for numero in range (1,101):\n",
        "  if numero % 3 == 0:\n",
        "    print(numero)\n",
        "# iterar hasta conseguir todos los números en un rango de 1 a 101\n",
        "# si el número es divisible entre 3 y de resto 0\n",
        "# mostrar número"
      ],
      "metadata": {
        "colab": {
          "base_uri": "https://localhost:8080/"
        },
        "id": "NcnFSR_QDOUT",
        "outputId": "bc6233be-0d4d-4c5a-c627-fc9a2e488abc",
        "collapsed": true
      },
      "execution_count": null,
      "outputs": [
        {
          "output_type": "stream",
          "name": "stdout",
          "text": [
            "3\n",
            "6\n",
            "9\n",
            "12\n",
            "15\n",
            "18\n",
            "21\n",
            "24\n",
            "27\n",
            "30\n",
            "33\n",
            "36\n",
            "39\n",
            "42\n",
            "45\n",
            "48\n",
            "51\n",
            "54\n",
            "57\n",
            "60\n",
            "63\n",
            "66\n",
            "69\n",
            "72\n",
            "75\n",
            "78\n",
            "81\n",
            "84\n",
            "87\n",
            "90\n",
            "93\n",
            "96\n",
            "99\n"
          ]
        }
      ]
    },
    {
      "cell_type": "code",
      "source": [
        "# problema 3:\n",
        "valor_a = int(input('ingrese un número'))\n",
        "valor_b = int(input('ingrese un número'))\n",
        "\n",
        "suma1 = valor_a + valor_b\n",
        "print(suma1)\n",
        "if suma1 <100:\n",
        "  print('es menor a 100')\n",
        "else:\n",
        "  if suma1 > 100 and suma1 <150:\n",
        "    print('es mayor a 100 y menor a 150')\n",
        "  elif suma1 > 150:\n",
        "    print('es mayor a 150')\n",
        "\n",
        "# variable 1: cualquier número entero\n",
        "# variable 2: cualquier número entero\n",
        "# suma1: variable 1 + variable 2\n",
        "# mostrar suma1\n",
        "# si suma1 cumplia ser <100. lanzar \"es menor a 100\"\n",
        "#sino:\n",
        "# si suma1 cumplia ser >100 y <150. lanzar \" es mayor a 100 y menor a 150\"\n",
        "# sino cumplia ser <150. lanzar \"es mayor a 150\""
      ],
      "metadata": {
        "id": "RD0JgT0_Fs0O"
      },
      "execution_count": null,
      "outputs": []
    },
    {
      "cell_type": "code",
      "source": [
        "# problema 4:\n",
        "edad = int(input('ingrese su edad:'))\n",
        "programar = input('¿te gusta programar?:')\n",
        "\n",
        "if edad >= 18 and programar == 'si':\n",
        "  print('eres mayor de edad y te gusta programar')\n",
        "elif edad >= 18 and programar == 'no':\n",
        "    print('eres mayor de edad y no te gusta programar')\n",
        "else:\n",
        " if edad < 18 and programar == 'si':\n",
        "    print('no eres mayor de edad y te gusta programar')\n",
        " elif edad < 18 and programar == 'no':\n",
        "      print('no eres mayor de edad y no te gusta programar')\n",
        "\n",
        "# ingresar variable 1 :edad\n",
        "# ingresar variable 2 : si/no\n",
        "# si la primer variable se cumple (>=18) y la segunda es un \"si\"\n",
        " #lanzar \"eres mayor de edad y te gusta programar\"\n",
        " # si la primera variable se cumple y la segunda es un \"no\"\n",
        "  #lanzar \"eres mayor de edad y no te gusta programar\"\n",
        "# si la primer variable no se cumple (<18) y la segunda es un \"si\"\n",
        " #lanzar \"no eres mayor de edad y te gusta programar\"\n",
        " # si la primera variable no se cumple y la segunda es un \"no\"\n",
        "  #lanzar \"no eres mayor de edad y no te gusta programar\""
      ],
      "metadata": {
        "id": "U3dRnv5z5qqE"
      },
      "execution_count": null,
      "outputs": []
    }
  ]
}